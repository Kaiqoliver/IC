{
 "cells": [
  {
   "cell_type": "markdown",
   "metadata": {},
   "source": [
    "Importing libraries:"
   ]
  },
  {
   "cell_type": "code",
   "execution_count": null,
   "metadata": {},
   "outputs": [],
   "source": [
    "import tensorflow as tf\n",
    "print(\"TensorFlow version:\", tf.__version__)\n",
    "\n",
    "import os\n",
    "import random\n",
    "import numpy as np\n",
    "#from matplotlib import pyplot as plt\n",
    "import gc\n",
    "\n",
    "from tensorflow.keras.models import  Model\n",
    "from tensorflow.keras.layers import Layer, Flatten, Dense, Input, Lambda\n",
    "import tensorflow.keras.backend as K\n",
    "from sklearn.datasets import fetch_lfw_pairs"
   ]
  }
 ],
 "metadata": {
  "kernelspec": {
   "display_name": "icvenv",
   "language": "python",
   "name": "python3"
  },
  "language_info": {
   "name": "python",
   "version": "3.10.13"
  }
 },
 "nbformat": 4,
 "nbformat_minor": 2
}
