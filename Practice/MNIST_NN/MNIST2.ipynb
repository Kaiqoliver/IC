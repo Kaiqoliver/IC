{
  "cells": [
    {
      "cell_type": "markdown",
      "metadata": {
        "id": "gCj5NFzpJTZ7"
      },
      "source": [
        "Importanto bibliotecas"
      ]
    },
    {
      "cell_type": "code",
      "execution_count": null,
      "metadata": {
        "id": "tzbJu9V7JNrF"
      },
      "outputs": [],
      "source": [
        "import numpy as np\n",
        "import tensorflow as tf\n",
        "from tensorflow import keras\n",
        "import matplotlib.pyplot as plt"
      ]
    },
    {
      "cell_type": "markdown",
      "metadata": {
        "id": "3zc0AyCTJa_w"
      },
      "source": [
        "Inicializando parâmetros"
      ]
    },
    {
      "cell_type": "code",
      "execution_count": null,
      "metadata": {
        "id": "3EsXU6BZJam9"
      },
      "outputs": [],
      "source": [
        "\n",
        "def init_params(layers_dim:list):\n",
        "   weight_list = []\n",
        "   for i in range(1, len(layers_dim)):\n",
        "     weight_list.append(np.random.uniform(low=-1,high=1,size=(layers_dim[i-1]+1,layers_dim[i])))\n",
        "    # weight_list.append(np.random.normal(size=(layers_dim[i-1]+1,layers_dim[i])))\n",
        "   return weight_list"
      ]
    },
    {
      "cell_type": "markdown",
      "metadata": {
        "id": "5KrvbK9oL3H6"
      },
      "source": [
        "Forward propagation"
      ]
    },
    {
      "cell_type": "code",
      "execution_count": null,
      "metadata": {
        "id": "GRBb9EWpL3eZ"
      },
      "outputs": [],
      "source": [
        "def sigmoide(z):\n",
        "  return 1.0/(1.0 + np.exp(-z))\n",
        "\n",
        "def sigmoide_linha(z):\n",
        "  return sigmoide(z)*(1 - sigmoide(z))\n",
        "\n",
        "def forward_propagation(weight_list,x):\n",
        "  signal_list = []\n",
        "  output_list = []\n",
        "\n",
        "  signal_list.append(np.dot(weight_list[0].T, x))\n",
        "  output_list.append(np.insert(sigmoide(signal_list[0]),0,1.0,0))\n",
        "\n",
        "  for i in range(1,len(weight_list)-1):\n",
        "    signal_list.append(np.dot(weight_list[i].T, output_list[i-1]))\n",
        "    output_list.append(np.insert(sigmoide(signal_list[i]),0,1.0,0))\n",
        "\n",
        "  signal_list.append(np.dot(weight_list[-1].T, output_list[-1]))\n",
        "  output_list.append(signal_list[-1])\n",
        "\n",
        "  return signal_list,output_list"
      ]
    },
    {
      "cell_type": "markdown",
      "metadata": {
        "id": "NRLPFXufPHBU"
      },
      "source": [
        "Backward_propagation"
      ]
    },
    {
      "cell_type": "code",
      "execution_count": null,
      "metadata": {
        "id": "zJBaZQIsNIZO"
      },
      "outputs": [],
      "source": [
        "def backward_propagation(signal_list, output_list, weight_list, x, y):\n",
        "  grad_list = []\n",
        "  sense_L = 2*(output_list[-1] - y)\n",
        "  grad_list.append(np.dot(output_list[-2],sense_L.T))\n",
        "  e = np.sum((output_list[-1] - y)**2)\n",
        "\n",
        "  for i in range(len(weight_list)-2, 0, -1):\n",
        "    sense_L = sigmoide_linha(signal_list[i])*(np.delete(np.dot(weight_list[i+1], sense_L), 0, 0))\n",
        "    grad_list.append(np.dot(output_list[i-1], sense_L.T))\n",
        "\n",
        "  sense_L = sigmoide_linha(signal_list[0])*(np.delete(np.dot(weight_list[1], sense_L), 0, 0))\n",
        "  grad_list.append(np.dot(x,sense_L.T))\n",
        "  grad_list.reverse()\n",
        "  return grad_list, e"
      ]
    },
    {
      "cell_type": "markdown",
      "metadata": {
        "id": "w82EQl-yYQb7"
      },
      "source": []
    },
    {
      "cell_type": "code",
      "execution_count": null,
      "metadata": {
        "id": "3PoNOP9CTttT"
      },
      "outputs": [],
      "source": [
        "def update_params(weight_list, grad_list, eta):\n",
        "  for i in range(len(weight_list)):\n",
        "    norm_Wi = np.linalg.norm(weight_list[i])\n",
        "    if(norm_Wi!=0.0):\n",
        "      weight_list[i] -= eta * grad_list[i]/norm_Wi\n",
        "    else:\n",
        "      weight_list[i] -= eta * grad_list[i]\n",
        "  return weight_list"
      ]
    },
    {
      "cell_type": "markdown",
      "metadata": {
        "id": "G5TyWgBBXN_8"
      },
      "source": [
        "Metrics"
      ]
    },
    {
      "cell_type": "code",
      "execution_count": null,
      "metadata": {
        "id": "FQevIBnhXOWm"
      },
      "outputs": [],
      "source": [
        "def get_prediction(y_n):\n",
        "  return np.argmax(y_n)\n",
        "\n",
        "def get_accuracy(weight_list, X_test, Y_test):\n",
        "  cont = 0 ; m = len(X_test)\n",
        "  for i in range(m):\n",
        "    signal_list, output_list = forward_propagation(weight_list, X_test[i])\n",
        "    y_hat = get_prediction(output_list[-1])\n",
        "    y = get_prediction(Y_test[i])\n",
        "    if y_hat == y:\n",
        "      cont += 1\n",
        "  return 100 * cont/m"
      ]
    },
    {
      "cell_type": "markdown",
      "metadata": {
        "id": "TLLFuCK-XbD7"
      },
      "source": []
    },
    {
      "cell_type": "code",
      "execution_count": null,
      "metadata": {
        "id": "4ro396pGXbcB"
      },
      "outputs": [],
      "source": [
        "from tensorflow.python.ops.custom_gradient import backprop\n",
        "from tqdm import tqdm\n",
        "def fit(X, Y, X_test, Y_test, layers_shape, learning_rate, batch, epochs_batch):\n",
        "  weight_list = init_params(layers_shape)\n",
        "  error_list = []\n",
        "  accuracy_list = []\n",
        "  G_list = []\n",
        "  for k in range(len(weight_list)):\n",
        "        G_list.append(1)\n",
        "  for i in range(epochs_batch):\n",
        "    error = 0.0\n",
        "    indices = np.arange(len(X))\n",
        "    np.random.shuffle(indices)\n",
        "    X_rand = X[indices]\n",
        "    Y_rand = Y[indices]\n",
        "    for j in tqdm(range(0, X.shape[0], batch)):\n",
        "      for k in range(len(weight_list)):\n",
        "        G_list[k] = (0.0*weight_list[k])\n",
        "\n",
        "      for k in range(j,j+batch):\n",
        "        signal_list, output_list = forward_propagation(weight_list,X[j])\n",
        "        grad_list_aux, e = backward_propagation(signal_list, output_list, weight_list, X[j], Y[j])\n",
        "        error+=e\n",
        "        for l in range(len(G_list)):\n",
        "          G_list[l] = G_list[l]+ grad_list_aux[l]\n",
        "\n",
        "      for k in range(len(G_list)):\n",
        "        G_list[k] = G_list[k]/batch\n",
        "      weight_list = update_params(weight_list, G_list, learning_rate)\n",
        "    error_list.append(error/X.shape[0])\n",
        "    accuracy_test = get_accuracy(weight_list, X_test, Y_test)\n",
        "    accuracy_train = get_accuracy(weight_list, X, Y)\n",
        "    accuracy_list.append(accuracy_test)\n",
        "    print(f\"Epoch {i}: accuracy test={accuracy_test}%; accuracy train={accuracy_train}%; error={error_list[-1]}\")\n",
        "\n",
        "  return weight_list, error_list, accuracy_list"
      ]
    },
    {
      "cell_type": "markdown",
      "metadata": {
        "id": "dmjrkh5Ac3en"
      },
      "source": []
    },
    {
      "cell_type": "code",
      "execution_count": null,
      "metadata": {
        "id": "FFNFarxjc3Pe",
        "colab": {
          "base_uri": "https://localhost:8080/"
        },
        "outputId": "a32bd3ee-095c-4dec-b5fc-b23c87dc2b78"
      },
      "outputs": [
        {
          "output_type": "stream",
          "name": "stdout",
          "text": [
            "Downloading data from https://storage.googleapis.com/tensorflow/tf-keras-datasets/mnist.npz\n",
            "11490434/11490434 [==============================] - 2s 0us/step\n"
          ]
        }
      ],
      "source": [
        "# Load the MNIST dataset\n",
        "mnist = keras.datasets.mnist\n",
        "(train_images, train_labels), (test_images, test_labels) = mnist.load_data()\n",
        "\n",
        "# Normalize pixel values to have mean 0 and standard deviation 1\n",
        "#train_images = (train_images / 255.0 - 0.5) / 0.5\n",
        "train_images = (train_images / 255.0)\n",
        "#test_images = (test_images / 255.0 - 0.5) / 0.5\n",
        "test_images = (test_images / 255.0)\n",
        "\n",
        "# Reshape images\n",
        "train_images = train_images.reshape(-1, 28 * 28, 1)\n",
        "test_images = test_images.reshape(-1, 28 * 28, 1)\n",
        "\n",
        "# Add a bias term (ones column) to the input data\n",
        "train_images = np.concatenate([np.ones((train_images.shape[0], 1, 1)), train_images], axis=1)\n",
        "test_images = np.concatenate([np.ones((test_images.shape[0], 1, 1)), test_images], axis=1)\n",
        "\n",
        "# One-hot encode the labels\n",
        "num_classes = 10  # Number of classes (digits 0-9)\n",
        "train_labels_one_hot = keras.utils.to_categorical(train_labels, num_classes)\n",
        "test_labels_one_hot = keras.utils.to_categorical(test_labels, num_classes)\n",
        "\n",
        "# Reshape the one-hot encoded labels to (num_samples, num_classes, 1)\n",
        "train_labels_one_hot = train_labels_one_hot.reshape(-1, num_classes, 1)\n",
        "test_labels_one_hot = test_labels_one_hot.reshape(-1, num_classes, 1)"
      ]
    },
    {
      "cell_type": "markdown",
      "metadata": {
        "id": "eJYT-l8cdAGJ"
      },
      "source": []
    },
    {
      "cell_type": "code",
      "execution_count": null,
      "metadata": {
        "colab": {
          "base_uri": "https://localhost:8080/",
          "height": 642
        },
        "id": "fmLdd7DYdAh1",
        "outputId": "97cc7a73-5f18-4889-f0e7-6aa50130233d"
      },
      "outputs": [
        {
          "output_type": "stream",
          "name": "stderr",
          "text": [
            "100%|██████████| 60000/60000 [01:39<00:00, 601.86it/s]\n"
          ]
        },
        {
          "output_type": "stream",
          "name": "stdout",
          "text": [
            "Epoch 0: accuracy test=47.36%; accuracy train=47.955%; error=0.9202024171629608\n"
          ]
        },
        {
          "output_type": "stream",
          "name": "stderr",
          "text": [
            "100%|██████████| 60000/60000 [01:34<00:00, 636.01it/s]\n"
          ]
        },
        {
          "output_type": "stream",
          "name": "stdout",
          "text": [
            "Epoch 1: accuracy test=60.63%; accuracy train=60.915%; error=0.6070811915391202\n"
          ]
        },
        {
          "output_type": "stream",
          "name": "stderr",
          "text": [
            "100%|██████████| 60000/60000 [01:33<00:00, 640.40it/s]\n"
          ]
        },
        {
          "output_type": "stream",
          "name": "stdout",
          "text": [
            "Epoch 2: accuracy test=69.37%; accuracy train=68.75166666666667%; error=0.48169076265044836\n"
          ]
        },
        {
          "output_type": "stream",
          "name": "stderr",
          "text": [
            "100%|██████████| 60000/60000 [01:32<00:00, 647.68it/s]\n"
          ]
        },
        {
          "output_type": "stream",
          "name": "stdout",
          "text": [
            "Epoch 3: accuracy test=74.8%; accuracy train=74.34%; error=0.41528984204480834\n"
          ]
        },
        {
          "output_type": "stream",
          "name": "stderr",
          "text": [
            "100%|██████████| 60000/60000 [01:31<00:00, 653.67it/s]\n"
          ]
        },
        {
          "output_type": "stream",
          "name": "stdout",
          "text": [
            "Epoch 4: accuracy test=78.59%; accuracy train=78.11833333333334%; error=0.373960722410945\n"
          ]
        },
        {
          "output_type": "stream",
          "name": "stderr",
          "text": [
            "100%|██████████| 60000/60000 [01:30<00:00, 659.46it/s]\n"
          ]
        },
        {
          "output_type": "stream",
          "name": "stdout",
          "text": [
            "Epoch 5: accuracy test=81.69%; accuracy train=81.025%; error=0.34309397697686317\n"
          ]
        },
        {
          "output_type": "stream",
          "name": "stderr",
          "text": [
            "100%|██████████| 60000/60000 [01:31<00:00, 655.58it/s]\n"
          ]
        },
        {
          "output_type": "stream",
          "name": "stdout",
          "text": [
            "Epoch 6: accuracy test=83.51%; accuracy train=83.0%; error=0.3174112284339121\n"
          ]
        },
        {
          "output_type": "stream",
          "name": "stderr",
          "text": [
            "100%|██████████| 60000/60000 [01:29<00:00, 668.66it/s]\n"
          ]
        },
        {
          "output_type": "stream",
          "name": "stdout",
          "text": [
            "Epoch 7: accuracy test=84.88%; accuracy train=84.39666666666666%; error=0.29926771101822475\n"
          ]
        },
        {
          "output_type": "stream",
          "name": "stderr",
          "text": [
            "100%|██████████| 60000/60000 [01:31<00:00, 654.58it/s]\n"
          ]
        },
        {
          "output_type": "stream",
          "name": "stdout",
          "text": [
            "Epoch 8: accuracy test=85.84%; accuracy train=85.52%; error=0.28484881591015426\n"
          ]
        },
        {
          "output_type": "stream",
          "name": "stderr",
          "text": [
            "100%|██████████| 60000/60000 [01:29<00:00, 668.52it/s]\n"
          ]
        },
        {
          "output_type": "error",
          "ename": "KeyboardInterrupt",
          "evalue": "",
          "traceback": [
            "\u001b[0;31m---------------------------------------------------------------------------\u001b[0m",
            "\u001b[0;31mKeyboardInterrupt\u001b[0m                         Traceback (most recent call last)",
            "\u001b[0;32m<ipython-input-9-8777cd641c9d>\u001b[0m in \u001b[0;36m<cell line: 1>\u001b[0;34m()\u001b[0m\n\u001b[0;32m----> 1\u001b[0;31m \u001b[0mweight_list\u001b[0m\u001b[0;34m,\u001b[0m \u001b[0merror_list\u001b[0m\u001b[0;34m,\u001b[0m \u001b[0maccuracy_list\u001b[0m \u001b[0;34m=\u001b[0m \u001b[0mfit\u001b[0m\u001b[0;34m(\u001b[0m\u001b[0mtrain_images\u001b[0m\u001b[0;34m,\u001b[0m \u001b[0mtrain_labels_one_hot\u001b[0m\u001b[0;34m,\u001b[0m \u001b[0mtest_images\u001b[0m\u001b[0;34m,\u001b[0m \u001b[0mtest_labels_one_hot\u001b[0m\u001b[0;34m,\u001b[0m \u001b[0;34m[\u001b[0m\u001b[0;36m28\u001b[0m\u001b[0;34m*\u001b[0m\u001b[0;36m28\u001b[0m \u001b[0;34m,\u001b[0m \u001b[0;36m128\u001b[0m\u001b[0;34m,\u001b[0m \u001b[0;36m64\u001b[0m\u001b[0;34m,\u001b[0m \u001b[0;36m10\u001b[0m\u001b[0;34m]\u001b[0m\u001b[0;34m,\u001b[0m \u001b[0;36m0.1\u001b[0m\u001b[0;34m,\u001b[0m \u001b[0;36m1\u001b[0m\u001b[0;34m,\u001b[0m \u001b[0;36m100\u001b[0m\u001b[0;34m)\u001b[0m\u001b[0;34m\u001b[0m\u001b[0;34m\u001b[0m\u001b[0m\n\u001b[0m",
            "\u001b[0;32m<ipython-input-7-d7e072d28815>\u001b[0m in \u001b[0;36mfit\u001b[0;34m(X, Y, X_test, Y_test, layers_shape, learning_rate, batch, epochs_batch)\u001b[0m\n\u001b[1;32m     30\u001b[0m     \u001b[0merror_list\u001b[0m\u001b[0;34m.\u001b[0m\u001b[0mappend\u001b[0m\u001b[0;34m(\u001b[0m\u001b[0merror\u001b[0m\u001b[0;34m/\u001b[0m\u001b[0mX\u001b[0m\u001b[0;34m.\u001b[0m\u001b[0mshape\u001b[0m\u001b[0;34m[\u001b[0m\u001b[0;36m0\u001b[0m\u001b[0;34m]\u001b[0m\u001b[0;34m)\u001b[0m\u001b[0;34m\u001b[0m\u001b[0;34m\u001b[0m\u001b[0m\n\u001b[1;32m     31\u001b[0m     \u001b[0maccuracy_test\u001b[0m \u001b[0;34m=\u001b[0m \u001b[0mget_accuracy\u001b[0m\u001b[0;34m(\u001b[0m\u001b[0mweight_list\u001b[0m\u001b[0;34m,\u001b[0m \u001b[0mX_test\u001b[0m\u001b[0;34m,\u001b[0m \u001b[0mY_test\u001b[0m\u001b[0;34m)\u001b[0m\u001b[0;34m\u001b[0m\u001b[0;34m\u001b[0m\u001b[0m\n\u001b[0;32m---> 32\u001b[0;31m     \u001b[0maccuracy_train\u001b[0m \u001b[0;34m=\u001b[0m \u001b[0mget_accuracy\u001b[0m\u001b[0;34m(\u001b[0m\u001b[0mweight_list\u001b[0m\u001b[0;34m,\u001b[0m \u001b[0mX\u001b[0m\u001b[0;34m,\u001b[0m \u001b[0mY\u001b[0m\u001b[0;34m)\u001b[0m\u001b[0;34m\u001b[0m\u001b[0;34m\u001b[0m\u001b[0m\n\u001b[0m\u001b[1;32m     33\u001b[0m     \u001b[0maccuracy_list\u001b[0m\u001b[0;34m.\u001b[0m\u001b[0mappend\u001b[0m\u001b[0;34m(\u001b[0m\u001b[0maccuracy_test\u001b[0m\u001b[0;34m)\u001b[0m\u001b[0;34m\u001b[0m\u001b[0;34m\u001b[0m\u001b[0m\n\u001b[1;32m     34\u001b[0m     \u001b[0mprint\u001b[0m\u001b[0;34m(\u001b[0m\u001b[0;34mf\"Epoch {i}: accuracy test={accuracy_test}%; accuracy train={accuracy_train}%; error={error_list[-1]}\"\u001b[0m\u001b[0;34m)\u001b[0m\u001b[0;34m\u001b[0m\u001b[0;34m\u001b[0m\u001b[0m\n",
            "\u001b[0;32m<ipython-input-6-5d4f69bf6ab4>\u001b[0m in \u001b[0;36mget_accuracy\u001b[0;34m(weight_list, X_test, Y_test)\u001b[0m\n\u001b[1;32m      5\u001b[0m   \u001b[0mcont\u001b[0m \u001b[0;34m=\u001b[0m \u001b[0;36m0\u001b[0m \u001b[0;34m;\u001b[0m \u001b[0mm\u001b[0m \u001b[0;34m=\u001b[0m \u001b[0mlen\u001b[0m\u001b[0;34m(\u001b[0m\u001b[0mX_test\u001b[0m\u001b[0;34m)\u001b[0m\u001b[0;34m\u001b[0m\u001b[0;34m\u001b[0m\u001b[0m\n\u001b[1;32m      6\u001b[0m   \u001b[0;32mfor\u001b[0m \u001b[0mi\u001b[0m \u001b[0;32min\u001b[0m \u001b[0mrange\u001b[0m\u001b[0;34m(\u001b[0m\u001b[0mm\u001b[0m\u001b[0;34m)\u001b[0m\u001b[0;34m:\u001b[0m\u001b[0;34m\u001b[0m\u001b[0;34m\u001b[0m\u001b[0m\n\u001b[0;32m----> 7\u001b[0;31m     \u001b[0msignal_list\u001b[0m\u001b[0;34m,\u001b[0m \u001b[0moutput_list\u001b[0m \u001b[0;34m=\u001b[0m \u001b[0mforward_propagation\u001b[0m\u001b[0;34m(\u001b[0m\u001b[0mweight_list\u001b[0m\u001b[0;34m,\u001b[0m \u001b[0mX_test\u001b[0m\u001b[0;34m[\u001b[0m\u001b[0mi\u001b[0m\u001b[0;34m]\u001b[0m\u001b[0;34m)\u001b[0m\u001b[0;34m\u001b[0m\u001b[0;34m\u001b[0m\u001b[0m\n\u001b[0m\u001b[1;32m      8\u001b[0m     \u001b[0my_hat\u001b[0m \u001b[0;34m=\u001b[0m \u001b[0mget_prediction\u001b[0m\u001b[0;34m(\u001b[0m\u001b[0moutput_list\u001b[0m\u001b[0;34m[\u001b[0m\u001b[0;34m-\u001b[0m\u001b[0;36m1\u001b[0m\u001b[0;34m]\u001b[0m\u001b[0;34m)\u001b[0m\u001b[0;34m\u001b[0m\u001b[0;34m\u001b[0m\u001b[0m\n\u001b[1;32m      9\u001b[0m     \u001b[0my\u001b[0m \u001b[0;34m=\u001b[0m \u001b[0mget_prediction\u001b[0m\u001b[0;34m(\u001b[0m\u001b[0mY_test\u001b[0m\u001b[0;34m[\u001b[0m\u001b[0mi\u001b[0m\u001b[0;34m]\u001b[0m\u001b[0;34m)\u001b[0m\u001b[0;34m\u001b[0m\u001b[0;34m\u001b[0m\u001b[0m\n",
            "\u001b[0;32m<ipython-input-3-b8c0a7cb237c>\u001b[0m in \u001b[0;36mforward_propagation\u001b[0;34m(weight_list, x)\u001b[0m\n\u001b[1;32m     14\u001b[0m   \u001b[0;32mfor\u001b[0m \u001b[0mi\u001b[0m \u001b[0;32min\u001b[0m \u001b[0mrange\u001b[0m\u001b[0;34m(\u001b[0m\u001b[0;36m1\u001b[0m\u001b[0;34m,\u001b[0m\u001b[0mlen\u001b[0m\u001b[0;34m(\u001b[0m\u001b[0mweight_list\u001b[0m\u001b[0;34m)\u001b[0m\u001b[0;34m-\u001b[0m\u001b[0;36m1\u001b[0m\u001b[0;34m)\u001b[0m\u001b[0;34m:\u001b[0m\u001b[0;34m\u001b[0m\u001b[0;34m\u001b[0m\u001b[0m\n\u001b[1;32m     15\u001b[0m     \u001b[0msignal_list\u001b[0m\u001b[0;34m.\u001b[0m\u001b[0mappend\u001b[0m\u001b[0;34m(\u001b[0m\u001b[0mnp\u001b[0m\u001b[0;34m.\u001b[0m\u001b[0mdot\u001b[0m\u001b[0;34m(\u001b[0m\u001b[0mweight_list\u001b[0m\u001b[0;34m[\u001b[0m\u001b[0mi\u001b[0m\u001b[0;34m]\u001b[0m\u001b[0;34m.\u001b[0m\u001b[0mT\u001b[0m\u001b[0;34m,\u001b[0m \u001b[0moutput_list\u001b[0m\u001b[0;34m[\u001b[0m\u001b[0mi\u001b[0m\u001b[0;34m-\u001b[0m\u001b[0;36m1\u001b[0m\u001b[0;34m]\u001b[0m\u001b[0;34m)\u001b[0m\u001b[0;34m)\u001b[0m\u001b[0;34m\u001b[0m\u001b[0;34m\u001b[0m\u001b[0m\n\u001b[0;32m---> 16\u001b[0;31m     \u001b[0moutput_list\u001b[0m\u001b[0;34m.\u001b[0m\u001b[0mappend\u001b[0m\u001b[0;34m(\u001b[0m\u001b[0mnp\u001b[0m\u001b[0;34m.\u001b[0m\u001b[0minsert\u001b[0m\u001b[0;34m(\u001b[0m\u001b[0msigmoide\u001b[0m\u001b[0;34m(\u001b[0m\u001b[0msignal_list\u001b[0m\u001b[0;34m[\u001b[0m\u001b[0mi\u001b[0m\u001b[0;34m]\u001b[0m\u001b[0;34m)\u001b[0m\u001b[0;34m,\u001b[0m\u001b[0;36m0\u001b[0m\u001b[0;34m,\u001b[0m\u001b[0;36m1.0\u001b[0m\u001b[0;34m,\u001b[0m\u001b[0;36m0\u001b[0m\u001b[0;34m)\u001b[0m\u001b[0;34m)\u001b[0m\u001b[0;34m\u001b[0m\u001b[0;34m\u001b[0m\u001b[0m\n\u001b[0m\u001b[1;32m     17\u001b[0m \u001b[0;34m\u001b[0m\u001b[0m\n\u001b[1;32m     18\u001b[0m   \u001b[0msignal_list\u001b[0m\u001b[0;34m.\u001b[0m\u001b[0mappend\u001b[0m\u001b[0;34m(\u001b[0m\u001b[0mnp\u001b[0m\u001b[0;34m.\u001b[0m\u001b[0mdot\u001b[0m\u001b[0;34m(\u001b[0m\u001b[0mweight_list\u001b[0m\u001b[0;34m[\u001b[0m\u001b[0;34m-\u001b[0m\u001b[0;36m1\u001b[0m\u001b[0;34m]\u001b[0m\u001b[0;34m.\u001b[0m\u001b[0mT\u001b[0m\u001b[0;34m,\u001b[0m \u001b[0moutput_list\u001b[0m\u001b[0;34m[\u001b[0m\u001b[0;34m-\u001b[0m\u001b[0;36m1\u001b[0m\u001b[0;34m]\u001b[0m\u001b[0;34m)\u001b[0m\u001b[0;34m)\u001b[0m\u001b[0;34m\u001b[0m\u001b[0;34m\u001b[0m\u001b[0m\n",
            "\u001b[0;32m/usr/local/lib/python3.10/dist-packages/numpy/lib/function_base.py\u001b[0m in \u001b[0;36minsert\u001b[0;34m(arr, obj, values, axis)\u001b[0m\n\u001b[1;32m   5366\u001b[0m \u001b[0;34m\u001b[0m\u001b[0m\n\u001b[1;32m   5367\u001b[0m \u001b[0;34m\u001b[0m\u001b[0m\n\u001b[0;32m-> 5368\u001b[0;31m \u001b[0;34m@\u001b[0m\u001b[0marray_function_dispatch\u001b[0m\u001b[0;34m(\u001b[0m\u001b[0m_insert_dispatcher\u001b[0m\u001b[0;34m)\u001b[0m\u001b[0;34m\u001b[0m\u001b[0;34m\u001b[0m\u001b[0m\n\u001b[0m\u001b[1;32m   5369\u001b[0m \u001b[0;32mdef\u001b[0m \u001b[0minsert\u001b[0m\u001b[0;34m(\u001b[0m\u001b[0marr\u001b[0m\u001b[0;34m,\u001b[0m \u001b[0mobj\u001b[0m\u001b[0;34m,\u001b[0m \u001b[0mvalues\u001b[0m\u001b[0;34m,\u001b[0m \u001b[0maxis\u001b[0m\u001b[0;34m=\u001b[0m\u001b[0;32mNone\u001b[0m\u001b[0;34m)\u001b[0m\u001b[0;34m:\u001b[0m\u001b[0;34m\u001b[0m\u001b[0;34m\u001b[0m\u001b[0m\n\u001b[1;32m   5370\u001b[0m     \"\"\"\n",
            "\u001b[0;31mKeyboardInterrupt\u001b[0m: "
          ]
        }
      ],
      "source": [
        "weight_list, error_list, accuracy_list = fit(train_images, train_labels_one_hot, test_images, test_labels_one_hot, [28*28 , 128, 64, 10], 0.1, 1, 100)"
      ]
    }
  ],
  "metadata": {
    "accelerator": "GPU",
    "colab": {
      "provenance": []
    },
    "kernelspec": {
      "display_name": "Python 3",
      "name": "python3"
    },
    "language_info": {
      "name": "python"
    }
  },
  "nbformat": 4,
  "nbformat_minor": 0
}